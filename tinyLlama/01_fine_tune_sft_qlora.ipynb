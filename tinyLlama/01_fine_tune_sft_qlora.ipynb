{
  "nbformat": 4,
  "nbformat_minor": 0,
  "metadata": {
    "colab": {
      "provenance": [],
      "gpuType": "T4",
      "authorship_tag": "ABX9TyO522fvTPFaQqvtA0kSKl8b",
      "include_colab_link": true
    },
    "kernelspec": {
      "name": "python3",
      "display_name": "Python 3"
    },
    "language_info": {
      "name": "python"
    },
    "accelerator": "GPU",
    "widgets": {
      "application/vnd.jupyter.widget-state+json": {
        "8442d6c6d65d463692bc17fb9735e1d7": {
          "model_module": "@jupyter-widgets/controls",
          "model_name": "HBoxModel",
          "model_module_version": "1.5.0",
          "state": {
            "_dom_classes": [],
            "_model_module": "@jupyter-widgets/controls",
            "_model_module_version": "1.5.0",
            "_model_name": "HBoxModel",
            "_view_count": null,
            "_view_module": "@jupyter-widgets/controls",
            "_view_module_version": "1.5.0",
            "_view_name": "HBoxView",
            "box_style": "",
            "children": [
              "IPY_MODEL_0f6daf5288cf4b74b48a91154cc7edff",
              "IPY_MODEL_d467a4d5428745ff9c8f320c4b6ebfbd",
              "IPY_MODEL_57d54f1078df49d9b8d8979e364c5693"
            ],
            "layout": "IPY_MODEL_f60b0577284a449c9cf3f64d88db85b7"
          }
        },
        "0f6daf5288cf4b74b48a91154cc7edff": {
          "model_module": "@jupyter-widgets/controls",
          "model_name": "HTMLModel",
          "model_module_version": "1.5.0",
          "state": {
            "_dom_classes": [],
            "_model_module": "@jupyter-widgets/controls",
            "_model_module_version": "1.5.0",
            "_model_name": "HTMLModel",
            "_view_count": null,
            "_view_module": "@jupyter-widgets/controls",
            "_view_module_version": "1.5.0",
            "_view_name": "HTMLView",
            "description": "",
            "description_tooltip": null,
            "layout": "IPY_MODEL_d140aebe464c4d3c90f806ec0520536e",
            "placeholder": "​",
            "style": "IPY_MODEL_aa7ef570bbb1402e9ada42aeb4f7fb5e",
            "value": "Map: 100%"
          }
        },
        "d467a4d5428745ff9c8f320c4b6ebfbd": {
          "model_module": "@jupyter-widgets/controls",
          "model_name": "FloatProgressModel",
          "model_module_version": "1.5.0",
          "state": {
            "_dom_classes": [],
            "_model_module": "@jupyter-widgets/controls",
            "_model_module_version": "1.5.0",
            "_model_name": "FloatProgressModel",
            "_view_count": null,
            "_view_module": "@jupyter-widgets/controls",
            "_view_module_version": "1.5.0",
            "_view_name": "ProgressView",
            "bar_style": "success",
            "description": "",
            "description_tooltip": null,
            "layout": "IPY_MODEL_8f164b6c70bf4fcba67057f7ce967288",
            "max": 2000,
            "min": 0,
            "orientation": "horizontal",
            "style": "IPY_MODEL_5b9d0831104a42af818b4f69ba1085ce",
            "value": 2000
          }
        },
        "57d54f1078df49d9b8d8979e364c5693": {
          "model_module": "@jupyter-widgets/controls",
          "model_name": "HTMLModel",
          "model_module_version": "1.5.0",
          "state": {
            "_dom_classes": [],
            "_model_module": "@jupyter-widgets/controls",
            "_model_module_version": "1.5.0",
            "_model_name": "HTMLModel",
            "_view_count": null,
            "_view_module": "@jupyter-widgets/controls",
            "_view_module_version": "1.5.0",
            "_view_name": "HTMLView",
            "description": "",
            "description_tooltip": null,
            "layout": "IPY_MODEL_2380a8aa0981474bbec63a6f609beb9a",
            "placeholder": "​",
            "style": "IPY_MODEL_a1abe160d52548cc93dceec3b053a734",
            "value": " 2000/2000 [00:02&lt;00:00, 1087.34 examples/s]"
          }
        },
        "f60b0577284a449c9cf3f64d88db85b7": {
          "model_module": "@jupyter-widgets/base",
          "model_name": "LayoutModel",
          "model_module_version": "1.2.0",
          "state": {
            "_model_module": "@jupyter-widgets/base",
            "_model_module_version": "1.2.0",
            "_model_name": "LayoutModel",
            "_view_count": null,
            "_view_module": "@jupyter-widgets/base",
            "_view_module_version": "1.2.0",
            "_view_name": "LayoutView",
            "align_content": null,
            "align_items": null,
            "align_self": null,
            "border": null,
            "bottom": null,
            "display": null,
            "flex": null,
            "flex_flow": null,
            "grid_area": null,
            "grid_auto_columns": null,
            "grid_auto_flow": null,
            "grid_auto_rows": null,
            "grid_column": null,
            "grid_gap": null,
            "grid_row": null,
            "grid_template_areas": null,
            "grid_template_columns": null,
            "grid_template_rows": null,
            "height": null,
            "justify_content": null,
            "justify_items": null,
            "left": null,
            "margin": null,
            "max_height": null,
            "max_width": null,
            "min_height": null,
            "min_width": null,
            "object_fit": null,
            "object_position": null,
            "order": null,
            "overflow": null,
            "overflow_x": null,
            "overflow_y": null,
            "padding": null,
            "right": null,
            "top": null,
            "visibility": null,
            "width": null
          }
        },
        "d140aebe464c4d3c90f806ec0520536e": {
          "model_module": "@jupyter-widgets/base",
          "model_name": "LayoutModel",
          "model_module_version": "1.2.0",
          "state": {
            "_model_module": "@jupyter-widgets/base",
            "_model_module_version": "1.2.0",
            "_model_name": "LayoutModel",
            "_view_count": null,
            "_view_module": "@jupyter-widgets/base",
            "_view_module_version": "1.2.0",
            "_view_name": "LayoutView",
            "align_content": null,
            "align_items": null,
            "align_self": null,
            "border": null,
            "bottom": null,
            "display": null,
            "flex": null,
            "flex_flow": null,
            "grid_area": null,
            "grid_auto_columns": null,
            "grid_auto_flow": null,
            "grid_auto_rows": null,
            "grid_column": null,
            "grid_gap": null,
            "grid_row": null,
            "grid_template_areas": null,
            "grid_template_columns": null,
            "grid_template_rows": null,
            "height": null,
            "justify_content": null,
            "justify_items": null,
            "left": null,
            "margin": null,
            "max_height": null,
            "max_width": null,
            "min_height": null,
            "min_width": null,
            "object_fit": null,
            "object_position": null,
            "order": null,
            "overflow": null,
            "overflow_x": null,
            "overflow_y": null,
            "padding": null,
            "right": null,
            "top": null,
            "visibility": null,
            "width": null
          }
        },
        "aa7ef570bbb1402e9ada42aeb4f7fb5e": {
          "model_module": "@jupyter-widgets/controls",
          "model_name": "DescriptionStyleModel",
          "model_module_version": "1.5.0",
          "state": {
            "_model_module": "@jupyter-widgets/controls",
            "_model_module_version": "1.5.0",
            "_model_name": "DescriptionStyleModel",
            "_view_count": null,
            "_view_module": "@jupyter-widgets/base",
            "_view_module_version": "1.2.0",
            "_view_name": "StyleView",
            "description_width": ""
          }
        },
        "8f164b6c70bf4fcba67057f7ce967288": {
          "model_module": "@jupyter-widgets/base",
          "model_name": "LayoutModel",
          "model_module_version": "1.2.0",
          "state": {
            "_model_module": "@jupyter-widgets/base",
            "_model_module_version": "1.2.0",
            "_model_name": "LayoutModel",
            "_view_count": null,
            "_view_module": "@jupyter-widgets/base",
            "_view_module_version": "1.2.0",
            "_view_name": "LayoutView",
            "align_content": null,
            "align_items": null,
            "align_self": null,
            "border": null,
            "bottom": null,
            "display": null,
            "flex": null,
            "flex_flow": null,
            "grid_area": null,
            "grid_auto_columns": null,
            "grid_auto_flow": null,
            "grid_auto_rows": null,
            "grid_column": null,
            "grid_gap": null,
            "grid_row": null,
            "grid_template_areas": null,
            "grid_template_columns": null,
            "grid_template_rows": null,
            "height": null,
            "justify_content": null,
            "justify_items": null,
            "left": null,
            "margin": null,
            "max_height": null,
            "max_width": null,
            "min_height": null,
            "min_width": null,
            "object_fit": null,
            "object_position": null,
            "order": null,
            "overflow": null,
            "overflow_x": null,
            "overflow_y": null,
            "padding": null,
            "right": null,
            "top": null,
            "visibility": null,
            "width": null
          }
        },
        "5b9d0831104a42af818b4f69ba1085ce": {
          "model_module": "@jupyter-widgets/controls",
          "model_name": "ProgressStyleModel",
          "model_module_version": "1.5.0",
          "state": {
            "_model_module": "@jupyter-widgets/controls",
            "_model_module_version": "1.5.0",
            "_model_name": "ProgressStyleModel",
            "_view_count": null,
            "_view_module": "@jupyter-widgets/base",
            "_view_module_version": "1.2.0",
            "_view_name": "StyleView",
            "bar_color": null,
            "description_width": ""
          }
        },
        "2380a8aa0981474bbec63a6f609beb9a": {
          "model_module": "@jupyter-widgets/base",
          "model_name": "LayoutModel",
          "model_module_version": "1.2.0",
          "state": {
            "_model_module": "@jupyter-widgets/base",
            "_model_module_version": "1.2.0",
            "_model_name": "LayoutModel",
            "_view_count": null,
            "_view_module": "@jupyter-widgets/base",
            "_view_module_version": "1.2.0",
            "_view_name": "LayoutView",
            "align_content": null,
            "align_items": null,
            "align_self": null,
            "border": null,
            "bottom": null,
            "display": null,
            "flex": null,
            "flex_flow": null,
            "grid_area": null,
            "grid_auto_columns": null,
            "grid_auto_flow": null,
            "grid_auto_rows": null,
            "grid_column": null,
            "grid_gap": null,
            "grid_row": null,
            "grid_template_areas": null,
            "grid_template_columns": null,
            "grid_template_rows": null,
            "height": null,
            "justify_content": null,
            "justify_items": null,
            "left": null,
            "margin": null,
            "max_height": null,
            "max_width": null,
            "min_height": null,
            "min_width": null,
            "object_fit": null,
            "object_position": null,
            "order": null,
            "overflow": null,
            "overflow_x": null,
            "overflow_y": null,
            "padding": null,
            "right": null,
            "top": null,
            "visibility": null,
            "width": null
          }
        },
        "a1abe160d52548cc93dceec3b053a734": {
          "model_module": "@jupyter-widgets/controls",
          "model_name": "DescriptionStyleModel",
          "model_module_version": "1.5.0",
          "state": {
            "_model_module": "@jupyter-widgets/controls",
            "_model_module_version": "1.5.0",
            "_model_name": "DescriptionStyleModel",
            "_view_count": null,
            "_view_module": "@jupyter-widgets/base",
            "_view_module_version": "1.2.0",
            "_view_name": "StyleView",
            "description_width": ""
          }
        },
        "7d5fa68fe10249b68880cc300a2409c7": {
          "model_module": "@jupyter-widgets/controls",
          "model_name": "HBoxModel",
          "model_module_version": "1.5.0",
          "state": {
            "_dom_classes": [],
            "_model_module": "@jupyter-widgets/controls",
            "_model_module_version": "1.5.0",
            "_model_name": "HBoxModel",
            "_view_count": null,
            "_view_module": "@jupyter-widgets/controls",
            "_view_module_version": "1.5.0",
            "_view_name": "HBoxView",
            "box_style": "",
            "children": [
              "IPY_MODEL_1054368d71e84ebfb090817e8d552fce",
              "IPY_MODEL_aca447b4a5104628ab90d089f79d1390",
              "IPY_MODEL_89ab06a5f843443eaf913ffc2c8f0dc9"
            ],
            "layout": "IPY_MODEL_d1c088ed79fc4187906adc0c27b6efe3"
          }
        },
        "1054368d71e84ebfb090817e8d552fce": {
          "model_module": "@jupyter-widgets/controls",
          "model_name": "HTMLModel",
          "model_module_version": "1.5.0",
          "state": {
            "_dom_classes": [],
            "_model_module": "@jupyter-widgets/controls",
            "_model_module_version": "1.5.0",
            "_model_name": "HTMLModel",
            "_view_count": null,
            "_view_module": "@jupyter-widgets/controls",
            "_view_module_version": "1.5.0",
            "_view_name": "HTMLView",
            "description": "",
            "description_tooltip": null,
            "layout": "IPY_MODEL_49aeb9edab064d9bb54a26334f32dcb6",
            "placeholder": "​",
            "style": "IPY_MODEL_d8bcb9867a704cd38f7db9883e151744",
            "value": "Map: 100%"
          }
        },
        "aca447b4a5104628ab90d089f79d1390": {
          "model_module": "@jupyter-widgets/controls",
          "model_name": "FloatProgressModel",
          "model_module_version": "1.5.0",
          "state": {
            "_dom_classes": [],
            "_model_module": "@jupyter-widgets/controls",
            "_model_module_version": "1.5.0",
            "_model_name": "FloatProgressModel",
            "_view_count": null,
            "_view_module": "@jupyter-widgets/controls",
            "_view_module_version": "1.5.0",
            "_view_name": "ProgressView",
            "bar_style": "success",
            "description": "",
            "description_tooltip": null,
            "layout": "IPY_MODEL_576e4bf5e7884aceb85886bd1e5731c2",
            "max": 2000,
            "min": 0,
            "orientation": "horizontal",
            "style": "IPY_MODEL_bb0b7e81c6394a2892141462f9504994",
            "value": 2000
          }
        },
        "89ab06a5f843443eaf913ffc2c8f0dc9": {
          "model_module": "@jupyter-widgets/controls",
          "model_name": "HTMLModel",
          "model_module_version": "1.5.0",
          "state": {
            "_dom_classes": [],
            "_model_module": "@jupyter-widgets/controls",
            "_model_module_version": "1.5.0",
            "_model_name": "HTMLModel",
            "_view_count": null,
            "_view_module": "@jupyter-widgets/controls",
            "_view_module_version": "1.5.0",
            "_view_name": "HTMLView",
            "description": "",
            "description_tooltip": null,
            "layout": "IPY_MODEL_6632767d64fd44498d889dc18e445fe8",
            "placeholder": "​",
            "style": "IPY_MODEL_a3d2f1ffe7ff40609fd9337d1113996b",
            "value": " 2000/2000 [00:07&lt;00:00, 283.73 examples/s]"
          }
        },
        "d1c088ed79fc4187906adc0c27b6efe3": {
          "model_module": "@jupyter-widgets/base",
          "model_name": "LayoutModel",
          "model_module_version": "1.2.0",
          "state": {
            "_model_module": "@jupyter-widgets/base",
            "_model_module_version": "1.2.0",
            "_model_name": "LayoutModel",
            "_view_count": null,
            "_view_module": "@jupyter-widgets/base",
            "_view_module_version": "1.2.0",
            "_view_name": "LayoutView",
            "align_content": null,
            "align_items": null,
            "align_self": null,
            "border": null,
            "bottom": null,
            "display": null,
            "flex": null,
            "flex_flow": null,
            "grid_area": null,
            "grid_auto_columns": null,
            "grid_auto_flow": null,
            "grid_auto_rows": null,
            "grid_column": null,
            "grid_gap": null,
            "grid_row": null,
            "grid_template_areas": null,
            "grid_template_columns": null,
            "grid_template_rows": null,
            "height": null,
            "justify_content": null,
            "justify_items": null,
            "left": null,
            "margin": null,
            "max_height": null,
            "max_width": null,
            "min_height": null,
            "min_width": null,
            "object_fit": null,
            "object_position": null,
            "order": null,
            "overflow": null,
            "overflow_x": null,
            "overflow_y": null,
            "padding": null,
            "right": null,
            "top": null,
            "visibility": null,
            "width": null
          }
        },
        "49aeb9edab064d9bb54a26334f32dcb6": {
          "model_module": "@jupyter-widgets/base",
          "model_name": "LayoutModel",
          "model_module_version": "1.2.0",
          "state": {
            "_model_module": "@jupyter-widgets/base",
            "_model_module_version": "1.2.0",
            "_model_name": "LayoutModel",
            "_view_count": null,
            "_view_module": "@jupyter-widgets/base",
            "_view_module_version": "1.2.0",
            "_view_name": "LayoutView",
            "align_content": null,
            "align_items": null,
            "align_self": null,
            "border": null,
            "bottom": null,
            "display": null,
            "flex": null,
            "flex_flow": null,
            "grid_area": null,
            "grid_auto_columns": null,
            "grid_auto_flow": null,
            "grid_auto_rows": null,
            "grid_column": null,
            "grid_gap": null,
            "grid_row": null,
            "grid_template_areas": null,
            "grid_template_columns": null,
            "grid_template_rows": null,
            "height": null,
            "justify_content": null,
            "justify_items": null,
            "left": null,
            "margin": null,
            "max_height": null,
            "max_width": null,
            "min_height": null,
            "min_width": null,
            "object_fit": null,
            "object_position": null,
            "order": null,
            "overflow": null,
            "overflow_x": null,
            "overflow_y": null,
            "padding": null,
            "right": null,
            "top": null,
            "visibility": null,
            "width": null
          }
        },
        "d8bcb9867a704cd38f7db9883e151744": {
          "model_module": "@jupyter-widgets/controls",
          "model_name": "DescriptionStyleModel",
          "model_module_version": "1.5.0",
          "state": {
            "_model_module": "@jupyter-widgets/controls",
            "_model_module_version": "1.5.0",
            "_model_name": "DescriptionStyleModel",
            "_view_count": null,
            "_view_module": "@jupyter-widgets/base",
            "_view_module_version": "1.2.0",
            "_view_name": "StyleView",
            "description_width": ""
          }
        },
        "576e4bf5e7884aceb85886bd1e5731c2": {
          "model_module": "@jupyter-widgets/base",
          "model_name": "LayoutModel",
          "model_module_version": "1.2.0",
          "state": {
            "_model_module": "@jupyter-widgets/base",
            "_model_module_version": "1.2.0",
            "_model_name": "LayoutModel",
            "_view_count": null,
            "_view_module": "@jupyter-widgets/base",
            "_view_module_version": "1.2.0",
            "_view_name": "LayoutView",
            "align_content": null,
            "align_items": null,
            "align_self": null,
            "border": null,
            "bottom": null,
            "display": null,
            "flex": null,
            "flex_flow": null,
            "grid_area": null,
            "grid_auto_columns": null,
            "grid_auto_flow": null,
            "grid_auto_rows": null,
            "grid_column": null,
            "grid_gap": null,
            "grid_row": null,
            "grid_template_areas": null,
            "grid_template_columns": null,
            "grid_template_rows": null,
            "height": null,
            "justify_content": null,
            "justify_items": null,
            "left": null,
            "margin": null,
            "max_height": null,
            "max_width": null,
            "min_height": null,
            "min_width": null,
            "object_fit": null,
            "object_position": null,
            "order": null,
            "overflow": null,
            "overflow_x": null,
            "overflow_y": null,
            "padding": null,
            "right": null,
            "top": null,
            "visibility": null,
            "width": null
          }
        },
        "bb0b7e81c6394a2892141462f9504994": {
          "model_module": "@jupyter-widgets/controls",
          "model_name": "ProgressStyleModel",
          "model_module_version": "1.5.0",
          "state": {
            "_model_module": "@jupyter-widgets/controls",
            "_model_module_version": "1.5.0",
            "_model_name": "ProgressStyleModel",
            "_view_count": null,
            "_view_module": "@jupyter-widgets/base",
            "_view_module_version": "1.2.0",
            "_view_name": "StyleView",
            "bar_color": null,
            "description_width": ""
          }
        },
        "6632767d64fd44498d889dc18e445fe8": {
          "model_module": "@jupyter-widgets/base",
          "model_name": "LayoutModel",
          "model_module_version": "1.2.0",
          "state": {
            "_model_module": "@jupyter-widgets/base",
            "_model_module_version": "1.2.0",
            "_model_name": "LayoutModel",
            "_view_count": null,
            "_view_module": "@jupyter-widgets/base",
            "_view_module_version": "1.2.0",
            "_view_name": "LayoutView",
            "align_content": null,
            "align_items": null,
            "align_self": null,
            "border": null,
            "bottom": null,
            "display": null,
            "flex": null,
            "flex_flow": null,
            "grid_area": null,
            "grid_auto_columns": null,
            "grid_auto_flow": null,
            "grid_auto_rows": null,
            "grid_column": null,
            "grid_gap": null,
            "grid_row": null,
            "grid_template_areas": null,
            "grid_template_columns": null,
            "grid_template_rows": null,
            "height": null,
            "justify_content": null,
            "justify_items": null,
            "left": null,
            "margin": null,
            "max_height": null,
            "max_width": null,
            "min_height": null,
            "min_width": null,
            "object_fit": null,
            "object_position": null,
            "order": null,
            "overflow": null,
            "overflow_x": null,
            "overflow_y": null,
            "padding": null,
            "right": null,
            "top": null,
            "visibility": null,
            "width": null
          }
        },
        "a3d2f1ffe7ff40609fd9337d1113996b": {
          "model_module": "@jupyter-widgets/controls",
          "model_name": "DescriptionStyleModel",
          "model_module_version": "1.5.0",
          "state": {
            "_model_module": "@jupyter-widgets/controls",
            "_model_module_version": "1.5.0",
            "_model_name": "DescriptionStyleModel",
            "_view_count": null,
            "_view_module": "@jupyter-widgets/base",
            "_view_module_version": "1.2.0",
            "_view_name": "StyleView",
            "description_width": ""
          }
        }
      }
    }
  },
  "cells": [
    {
      "cell_type": "markdown",
      "metadata": {
        "id": "view-in-github",
        "colab_type": "text"
      },
      "source": [
        "<a href=\"https://colab.research.google.com/github/gupta24789/fine-tuning-llms/blob/main/tinyLlama/01_fine_tune_sft_qlora.ipynb\" target=\"_parent\"><img src=\"https://colab.research.google.com/assets/colab-badge.svg\" alt=\"Open In Colab\"/></a>"
      ]
    },
    {
      "cell_type": "code",
      "execution_count": 3,
      "metadata": {
        "id": "PDBsLVi5TZfL"
      },
      "outputs": [],
      "source": [
        "# !pip install -q accelerate peft bitsandbytes transformers trl sentencepiece"
      ]
    },
    {
      "cell_type": "code",
      "source": [
        "## Library\n",
        "from transformers import AutoTokenizer, AutoModelForCausalLM, BitsAndBytesConfig\n",
        "from peft import LoraConfig, prepare_model_for_kbit_training, get_peft_model\n",
        "from trl import SFTTrainer, SFTConfig\n",
        "from datasets import load_dataset"
      ],
      "metadata": {
        "id": "OKwwOSB0d9nh"
      },
      "execution_count": 4,
      "outputs": []
    },
    {
      "cell_type": "markdown",
      "source": [
        "#### Prepare Data"
      ],
      "metadata": {
        "id": "_zmkFf0neQEO"
      }
    },
    {
      "cell_type": "code",
      "source": [
        "dataset = load_dataset(\"HuggingFaceH4/ultrachat_200k\", split = \"test_sft\")\n",
        "dataset = dataset.shuffle(seed=42).select(range(2000))\n",
        "dataset"
      ],
      "metadata": {
        "colab": {
          "base_uri": "https://localhost:8080/"
        },
        "id": "C_ad1MBkeN69",
        "outputId": "bbd0be87-13b4-41a9-fcb8-3153e725f239"
      },
      "execution_count": 7,
      "outputs": [
        {
          "output_type": "execute_result",
          "data": {
            "text/plain": [
              "Dataset({\n",
              "    features: ['prompt', 'prompt_id', 'messages'],\n",
              "    num_rows: 2000\n",
              "})"
            ]
          },
          "metadata": {},
          "execution_count": 7
        }
      ]
    },
    {
      "cell_type": "code",
      "source": [
        "template_tokenizer = AutoTokenizer.from_pretrained(\"TinyLlama/TinyLlama-1.1B-Chat-v1.0\")\n",
        "print(template_tokenizer.chat_template)"
      ],
      "metadata": {
        "colab": {
          "base_uri": "https://localhost:8080/"
        },
        "id": "utMr4dQEeav8",
        "outputId": "cc383248-0614-429b-b8c4-aaf7a528c42d"
      },
      "execution_count": 8,
      "outputs": [
        {
          "output_type": "stream",
          "name": "stdout",
          "text": [
            "{% for message in messages %}\n",
            "{% if message['role'] == 'user' %}\n",
            "{{ '<|user|>\n",
            "' + message['content'] + eos_token }}\n",
            "{% elif message['role'] == 'system' %}\n",
            "{{ '<|system|>\n",
            "' + message['content'] + eos_token }}\n",
            "{% elif message['role'] == 'assistant' %}\n",
            "{{ '<|assistant|>\n",
            "'  + message['content'] + eos_token }}\n",
            "{% endif %}\n",
            "{% if loop.last and add_generation_prompt %}\n",
            "{{ '<|assistant|>' }}\n",
            "{% endif %}\n",
            "{% endfor %}\n"
          ]
        }
      ]
    },
    {
      "cell_type": "code",
      "source": [
        "def process_chats(example):\n",
        "  chats = example['messages']\n",
        "  prompt = template_tokenizer.apply_chat_template(chats, tokenize=False, add_generation_prompt=False)\n",
        "  return {\"text\": prompt}\n",
        "\n",
        "\n",
        "dataset = dataset.map(process_chats, batch_size = 128)"
      ],
      "metadata": {
        "colab": {
          "base_uri": "https://localhost:8080/",
          "height": 49,
          "referenced_widgets": [
            "8442d6c6d65d463692bc17fb9735e1d7",
            "0f6daf5288cf4b74b48a91154cc7edff",
            "d467a4d5428745ff9c8f320c4b6ebfbd",
            "57d54f1078df49d9b8d8979e364c5693",
            "f60b0577284a449c9cf3f64d88db85b7",
            "d140aebe464c4d3c90f806ec0520536e",
            "aa7ef570bbb1402e9ada42aeb4f7fb5e",
            "8f164b6c70bf4fcba67057f7ce967288",
            "5b9d0831104a42af818b4f69ba1085ce",
            "2380a8aa0981474bbec63a6f609beb9a",
            "a1abe160d52548cc93dceec3b053a734"
          ]
        },
        "id": "fv9gpJd8ekqC",
        "outputId": "0cd983f9-5992-4590-a9f8-379915b017a8"
      },
      "execution_count": 9,
      "outputs": [
        {
          "output_type": "display_data",
          "data": {
            "text/plain": [
              "Map:   0%|          | 0/2000 [00:00<?, ? examples/s]"
            ],
            "application/vnd.jupyter.widget-view+json": {
              "version_major": 2,
              "version_minor": 0,
              "model_id": "8442d6c6d65d463692bc17fb9735e1d7"
            }
          },
          "metadata": {}
        }
      ]
    },
    {
      "cell_type": "code",
      "source": [
        "print(dataset['text'][3])"
      ],
      "metadata": {
        "colab": {
          "base_uri": "https://localhost:8080/"
        },
        "id": "EUs8sXwsfArN",
        "outputId": "7affde66-0b4c-44e5-b532-8a93a14557c6"
      },
      "execution_count": 12,
      "outputs": [
        {
          "output_type": "stream",
          "name": "stdout",
          "text": [
            "<|user|>\n",
            "Can you summarize the activities and attractions available in both Conway and Myrtle Beach, South Carolina for summer travelers?\n",
            "Generate according to: Are you traveling towards the beach this summer? Are you looking for some fun things to do and places to go? Well look no further because you live in the right place: Conway and Myrtle Beach, South Carolina.\n",
            "Conway has a beautiful riverfront and a museum on Main Street. There are multiple things that you can do in a group or just by yourself. Here on the coast we have some of the most beautiful places. Inside of Conway, we have a recreational center that is available to all people that are want to come and be apart of the summer camps that they offer for kids. Also, within this recreational center we have a community pool, and down the road there an outside pool owned by the recreation center.\n",
            "In Myrtle beach you can visit Broadway at the Beach, Family Kingdom Amusement Park, take a walk on the boardwalk, take a trip to Myrtle Waves, ride the Skywheel, make purchases from the Gay Dolphin Gift Cove, and visit the wax museum. Broadway at the Beach serves Horry County in all the best possible ways because you can have a great family time with great attractions for little kids, and this could be helpful if you are having to babysit younger kids. Taking kids to Ripley’s Aquarium to see the animals, the shows, to hold the horseshoe crabs, and to pet the stingrays is an interesting way to spend an afternoon. If you are looking for entertainment for older kids there is an IMAX theater located at Broadway, a WonderWorks, ziplining, and tons of specialized stores to shop in .\n",
            "If you can dream it up in Myrtle Beach you can probably find some where to do it. Live it up this summer.</s>\n",
            "<|assistant|>\n",
            "Conway, South Carolina offers a beautiful riverfront and museum, as well as a recreational center that offers summer camps for kids and community pools. In Myrtle Beach, attractions include Broadway at the Beach, Family Kingdom Amusement Park, Myrtle Waves, the Skywheel, Gay Dolphin Gift Cove, and a wax museum. Ripley's Aquarium, an IMAX theater, WonderWorks, ziplining, and specialized shopping are also available. Myrtle Beach truly offers something for everyone, making it the perfect destination for a fun-filled summer vacation.</s>\n",
            "<|user|>\n",
            "Sounds exciting! Can you suggest some specific restaurants or food places to try out in Conway and Myrtle Beach?</s>\n",
            "<|assistant|>\n",
            "Of course! Here are some suggestions for restaurants and food places to try out in Conway and Myrtle Beach:\n",
            "\n",
            "In Conway:\n",
            "- Crafty Rooster: offers American-style pub food, craft beer, and live music\n",
            "- Rivertown Bistro: serves Southern and Cajun cuisine with a modern twist\n",
            "- Crady's Eclectic Cuisine: known for its breakfast and brunch dishes, including shrimp and grits\n",
            "- Bonfire Taqueria: offers a variety of tacos, burritos, and other Mexican-inspired dishes\n",
            "- Bojangles': a Southern-style fast-food chain famous for its fried chicken and biscuits\n",
            "\n",
            "In Myrtle Beach:\n",
            "- Sea Captain's House: offers seafood dishes in a historic oceanfront home\n",
            "- Carolina Roadhouse: serves Southern-style dishes, including slow-cooked ribs and prime rib\n",
            "- ART Burger Sushi Bar: offers creative sushi rolls and gourmet burgers\n",
            "- Croissants Bistro & Bakery: known for its brunch and bakery items, including croissants and quiches\n",
            "- Moe's Original Bar B Que: serves Southern-style BBQ dishes, including pulled pork and smoked chicken\n",
            "\n",
            "There are plenty of great dining options in both Conway and Myrtle Beach, so be sure to explore and try out different places during your visit!</s>\n",
            "<|user|>\n",
            "Can you help me find some good beaches to visit in Myrtle Beach?</s>\n",
            "<|assistant|>\n",
            "Certainly! Myrtle Beach is known for its beautiful beaches, and there are several great options to choose from. Here are some of the best beaches in Myrtle Beach:\n",
            "\n",
            "1. Myrtle Beach: This is the most popular beach in the area and stretches for 60 miles along the coast. It offers wide sandy beaches with plenty of space to spread out and soak up the sun. 2. North Myrtle Beach: Located just a few miles north of Myrtle Beach, this beach is known for its peaceful atmosphere and clear water. It offers great swimming and sunbathing opportunities, as well as a variety of water sports like parasailing and jet skiing. 3. Surfside Beach: This beach is a family-friendly option, with calm surf and plenty of amenities like playgrounds and picnic tables. It is less crowded than Myrtle Beach but still offers great swimming and sunbathing opportunities. 4. Garden City Beach: This is a quieter option for those looking to avoid the crowds. It offers great views of the ocean and lots of space for relaxing on the sand. 5. Pawleys Island: This beach is located about 30 minutes south of Myrtle Beach and is known for its beautiful sunrises and sunsets. It offers a peaceful atmosphere and plenty of opportunities for fishing and crabbing. No matter which beach you choose, you're sure to have a great time soaking up the sun and enjoying the beautiful coastline of Myrtle Beach.</s>\n",
            "<|user|>\n",
            "Can you help me find some good hiking trails or parks to visit in Conway and Myrtle Beach?</s>\n",
            "<|assistant|>\n",
            "Certainly! Here are some hiking trails and parks to visit in Conway and Myrtle Beach:\n",
            "\n",
            "In Conway:\n",
            "- Waccamaw National Wildlife Refuge: offers over 14,000 acres of protected wilderness, including hiking trails, bird watching, and fishing opportunities. - Conway Riverwalk: offers paved trails along the Waccamaw River, providing scenic views of the water and wildlife. - Lake Busbee: This park is a great spot for fishing and camping, and it also has hiking trails surrounding the lake. In Myrtle Beach:\n",
            "- Myrtle Beach State Park: offers several hiking trails through the park's maritime forest, as well as a fishing pier and nature center. - Huntington Beach State Park: offers hiking trails through the park's marshes and a beach area that's known for bird watching. - Vereen Memorial Historical Gardens: offers easy hiking trails through gardens and maritime forests, providing scenic views of the Intracoastal Waterway and salt marshes. - North Myrtle Beach Park and Sports Complex: While the park is mainly for sports, there are a few trails and walking paths that offer beautiful views of the park's lakes and sports fields. Whether you're looking for a leisurely stroll or a more challenging hike, there are several options to choose from in both Conway and Myrtle Beach.</s>\n",
            "\n"
          ]
        }
      ]
    },
    {
      "cell_type": "markdown",
      "source": [
        "#### Load Quantized Base Model & Tokenizer"
      ],
      "metadata": {
        "id": "O5MzZmsifb9A"
      }
    },
    {
      "cell_type": "code",
      "source": [
        "## Tokenizer\n",
        "tokenizer = AutoTokenizer.from_pretrained(\"TinyLlama/TinyLlama-1.1B-intermediate-step-1431k-3T\")\n",
        "tokenizer.pad_token = \"<PAD>\"\n",
        "tokenizer.padding_side = \"left\"\n",
        "tokenizer.chat_template = template_tokenizer.chat_template\n",
        "\n",
        "## Load Quantized model\n",
        "bnb_config = BitsAndBytesConfig(\n",
        "    load_in_4bit=True,\n",
        "    bnb_4bit_use_double_quant=True,\n",
        "    bnb_4bit_quant_type=\"nf4\",\n",
        "    bnb_4bit_compute_dtype=\"float16\"\n",
        ")\n",
        "\n",
        "model = AutoModelForCausalLM.from_pretrained(\n",
        "    \"TinyLlama/TinyLlama-1.1B-intermediate-step-1431k-3T\",\n",
        "    quantization_config=bnb_config,\n",
        "    device_map = \"auto\"\n",
        ")\n",
        "\n",
        "model.config.use_cache = False"
      ],
      "metadata": {
        "id": "1kbd0SUNfC1s"
      },
      "execution_count": 16,
      "outputs": []
    },
    {
      "cell_type": "markdown",
      "source": [
        "#### Prepare model for PEFT traning"
      ],
      "metadata": {
        "id": "uMIyWucxfwNB"
      }
    },
    {
      "cell_type": "code",
      "source": [
        "peft_config = LoraConfig(\n",
        "  lora_alpha = 32,\n",
        "  lora_dropout = 0.1,\n",
        "  r = 64,\n",
        "  bias = \"none\",\n",
        "  task_type = \"CAUSAL_LM\",\n",
        "  target_modules = [\"q_proj\",\"k_proj\",\"v_proj\",\"o_proj\",\"gate_proj\",\"up_proj\",\"down_proj\"]\n",
        "\n",
        ")\n",
        "\n",
        "model = prepare_model_for_kbit_training(model, use_gradient_checkpointing=True)\n",
        "model = get_peft_model(model, peft_config)"
      ],
      "metadata": {
        "id": "2kHGhWaRfquL"
      },
      "execution_count": 17,
      "outputs": []
    },
    {
      "cell_type": "markdown",
      "source": [
        "#### Training"
      ],
      "metadata": {
        "id": "l2IeI8WXgQCG"
      }
    },
    {
      "cell_type": "code",
      "source": [
        "training_args = SFTConfig(\n",
        "    output_dir = \"checkpoints\",\n",
        "    dataset_text_field = \"text\",\n",
        "    max_seq_length = 512,\n",
        "    per_device_train_batch_size = 2,\n",
        "    max_steps = 100,\n",
        "    logging_steps = 10,\n",
        "    gradient_accumulation_steps = 4,\n",
        "    optim = \"paged_adamw_32bit\",\n",
        "    learning_rate = 2e-4,\n",
        "    lr_scheduler_type = \"cosine\",\n",
        "    num_train_epochs = 1,\n",
        "    fp16 = True,\n",
        "    report_to = \"none\",\n",
        "    gradient_checkpointing = True\n",
        ")\n",
        "\n",
        "trainer = SFTTrainer(\n",
        "    model = model,\n",
        "    args = training_args,\n",
        "    train_dataset = dataset,\n",
        "    tokenizer = tokenizer,\n",
        "    peft_config = peft_config\n",
        ")\n",
        "\n",
        "## Training\n",
        "trainer.train()\n",
        "\n",
        "## Save model\n",
        "trainer.model.save_pretrained(\"fine-tuned-tinyLlama\")"
      ],
      "metadata": {
        "colab": {
          "base_uri": "https://localhost:8080/",
          "height": 510,
          "referenced_widgets": [
            "7d5fa68fe10249b68880cc300a2409c7",
            "1054368d71e84ebfb090817e8d552fce",
            "aca447b4a5104628ab90d089f79d1390",
            "89ab06a5f843443eaf913ffc2c8f0dc9",
            "d1c088ed79fc4187906adc0c27b6efe3",
            "49aeb9edab064d9bb54a26334f32dcb6",
            "d8bcb9867a704cd38f7db9883e151744",
            "576e4bf5e7884aceb85886bd1e5731c2",
            "bb0b7e81c6394a2892141462f9504994",
            "6632767d64fd44498d889dc18e445fe8",
            "a3d2f1ffe7ff40609fd9337d1113996b"
          ]
        },
        "id": "wacboHGGgNM9",
        "outputId": "5491381c-7e69-4fad-8841-c182904a737c"
      },
      "execution_count": 19,
      "outputs": [
        {
          "output_type": "stream",
          "name": "stderr",
          "text": [
            "<ipython-input-19-b8c86cec1538>:18: FutureWarning: `tokenizer` is deprecated and removed starting from version 0.16.0 for `SFTTrainer.__init__`. Use `processing_class` instead.\n",
            "  trainer = SFTTrainer(\n"
          ]
        },
        {
          "output_type": "display_data",
          "data": {
            "text/plain": [
              "Map:   0%|          | 0/2000 [00:00<?, ? examples/s]"
            ],
            "application/vnd.jupyter.widget-view+json": {
              "version_major": 2,
              "version_minor": 0,
              "model_id": "7d5fa68fe10249b68880cc300a2409c7"
            }
          },
          "metadata": {}
        },
        {
          "output_type": "stream",
          "name": "stderr",
          "text": [
            "/usr/local/lib/python3.10/dist-packages/trl/trainer/sft_trainer.py:300: UserWarning: You passed a processing_class with `padding_side` not equal to `right` to the SFTTrainer. This might lead to some unexpected behaviour due to overflow issues when training a model in half-precision. You might consider adding `processing_class.padding_side = 'right'` to your code.\n",
            "  warnings.warn(\n"
          ]
        },
        {
          "output_type": "display_data",
          "data": {
            "text/plain": [
              "<IPython.core.display.HTML object>"
            ],
            "text/html": [
              "\n",
              "    <div>\n",
              "      \n",
              "      <progress value='100' max='100' style='width:300px; height:20px; vertical-align: middle;'></progress>\n",
              "      [100/100 06:36, Epoch 0/1]\n",
              "    </div>\n",
              "    <table border=\"1\" class=\"dataframe\">\n",
              "  <thead>\n",
              " <tr style=\"text-align: left;\">\n",
              "      <th>Step</th>\n",
              "      <th>Training Loss</th>\n",
              "    </tr>\n",
              "  </thead>\n",
              "  <tbody>\n",
              "    <tr>\n",
              "      <td>10</td>\n",
              "      <td>1.644900</td>\n",
              "    </tr>\n",
              "    <tr>\n",
              "      <td>20</td>\n",
              "      <td>1.416200</td>\n",
              "    </tr>\n",
              "    <tr>\n",
              "      <td>30</td>\n",
              "      <td>1.435700</td>\n",
              "    </tr>\n",
              "    <tr>\n",
              "      <td>40</td>\n",
              "      <td>1.440700</td>\n",
              "    </tr>\n",
              "    <tr>\n",
              "      <td>50</td>\n",
              "      <td>1.456900</td>\n",
              "    </tr>\n",
              "    <tr>\n",
              "      <td>60</td>\n",
              "      <td>1.442300</td>\n",
              "    </tr>\n",
              "    <tr>\n",
              "      <td>70</td>\n",
              "      <td>1.348600</td>\n",
              "    </tr>\n",
              "    <tr>\n",
              "      <td>80</td>\n",
              "      <td>1.418900</td>\n",
              "    </tr>\n",
              "    <tr>\n",
              "      <td>90</td>\n",
              "      <td>1.431200</td>\n",
              "    </tr>\n",
              "    <tr>\n",
              "      <td>100</td>\n",
              "      <td>1.499900</td>\n",
              "    </tr>\n",
              "  </tbody>\n",
              "</table><p>"
            ]
          },
          "metadata": {}
        }
      ]
    },
    {
      "cell_type": "markdown",
      "source": [
        "#### Merge Adapter"
      ],
      "metadata": {
        "id": "21cr7t3thWp0"
      }
    },
    {
      "cell_type": "code",
      "source": [
        "from peft import AutoPeftModelForCausalLM\n",
        "\n",
        "model = AutoPeftModelForCausalLM.from_pretrained(\n",
        "    \"fine-tuned-tinyLlama\",\n",
        "    low_cpu_mem_usage=True,\n",
        "    device_map=\"auto\",\n",
        ")\n",
        "\n",
        "# Merge LoRA and base model\n",
        "merged_model = model.merge_and_unload()"
      ],
      "metadata": {
        "id": "UOo_dmkCghPi"
      },
      "execution_count": 20,
      "outputs": []
    },
    {
      "cell_type": "markdown",
      "source": [
        "#### Inference"
      ],
      "metadata": {
        "id": "VyGkXtoChd8L"
      }
    },
    {
      "cell_type": "code",
      "source": [
        "from transformers import pipeline\n",
        "\n",
        "# Use our predefined prompt template\n",
        "prompt = \"\"\"<|user|>\n",
        "Tell me something about Large Language Models.</s>\n",
        "<|assistant|>\n",
        "\"\"\"\n",
        "\n",
        "# Run our instruction-tuned model\n",
        "pipe = pipeline(task=\"text-generation\", model=merged_model, tokenizer=tokenizer)\n",
        "print(pipe(prompt)[0][\"generated_text\"])"
      ],
      "metadata": {
        "colab": {
          "base_uri": "https://localhost:8080/"
        },
        "id": "RBl2h5IjhfcO",
        "outputId": "0707bfb0-3c77-4ee3-e78d-c781701ce12f"
      },
      "execution_count": 22,
      "outputs": [
        {
          "output_type": "stream",
          "name": "stderr",
          "text": [
            "Device set to use cuda:0\n"
          ]
        },
        {
          "output_type": "stream",
          "name": "stdout",
          "text": [
            "<|user|>\n",
            "Tell me something about Large Language Models.</s>\n",
            "<|assistant|>\n",
            "Large Language Models (LLMs) are a type of artificial intelligence (AI) that can generate human-like language. They are trained on large amounts of text data, and they can be used to generate text in a variety of contexts, such as chatbots, machine translation, and natural language processing (NLP).\n",
            "\n",
            "LLMs are built on the concept of recurrent neural networks (RNNs), which are a type of neural network that can process sequential data. RNNs are often used in NLP applications because they can process large amounts of text data quickly and efficiently.\n",
            "\n",
            "One of the most important features of LLMs is their ability to generate human-like language. LLMs can generate text that is grammatically correct, has a natural flow, and sounds like a human speaking. This makes them ideal for use in chatbots, where they can respond to users' questions and provide answers in a conversational manner.\n",
            "\n",
            "LLMs can also be used for machine translation, where they can translate one language into another. This can be useful for translating text from one language to another, or for generating text in a different language.\n",
            "\n",
            "LLMs can also be used for natural language processing (NLP), which is the process of analyzing and understanding human language. LLMs can be used to generate text that is similar to human language, such as by generating text based on a user's input. This can be useful for generating text for marketing campaigns, or for generating text that is tailored to a specific audience.\n",
            "\n",
            "LLMs are becoming increasingly popular in the field of AI, and they are being used in a variety of applications. They are being used to generate text for chatbots, machine translation, and natural language processing. LLMs are also being used to generate text for marketing campaigns, and they are being used to generate text for social media posts.\n",
            "\n",
            "LLMs are becoming increasingly popular in the field of AI, and they are being used in a variety of applications. They are being used to generate text for chatbots, machine translation, and natural language processing. LLMs are also being used to generate text for marketing campaigns, and they are being used to generate text for social media posts.\n"
          ]
        }
      ]
    },
    {
      "cell_type": "code",
      "source": [],
      "metadata": {
        "id": "JXIoSEPEiXyq"
      },
      "execution_count": null,
      "outputs": []
    }
  ]
}